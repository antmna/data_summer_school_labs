{
 "cells": [
  {
   "cell_type": "code",
   "execution_count": 1,
   "metadata": {
    "collapsed": true
   },
   "outputs": [],
   "source": [
    "%matplotlib inline\n",
    "\n",
    "import numpy as np\n",
    "import matplotlib.pyplot as plt\n",
    "import random\n",
    "\n",
    "def difference_quotient(f, x, h):\n",
    "    return (f(x + h) - f(x)) / h\n",
    "\n",
    "\n"
   ]
  },
  {
   "cell_type": "code",
   "execution_count": 2,
   "metadata": {
    "collapsed": true
   },
   "outputs": [],
   "source": [
    "from numpy import arange\n",
    "def plot_estimated_derivative():\n",
    "    def square(x):\n",
    "        return x * x *x*x +x*x*x -8*x+x -12*x\n",
    "\n",
    "    def derivative(x):\n",
    "        #내가 계산한 도함수\n",
    "        return 4*x*x*x +3*x*x -16*x -12\n",
    "\n",
    "    derivative_estimate = lambda x: difference_quotient(square, x, h=0.00001)\n",
    "    #컴퓨터가 계산한 도함수\n",
    "    # plot to show they're basically the same\n",
    "    x = [i for i in arange(-4, 4 ,0.001)]\n",
    "    \n",
    "    \n",
    "    plt.plot(x, list(map(derivative, x)), 'rx')           # red  x\n",
    "    plt.plot(x, list(map(derivative_estimate, x)), 'b+')  # blue +\n",
    "    plt.show()   # purple *, hopefully\n",
    "    "
   ]
  },
  {
   "cell_type": "code",
   "execution_count": 3,
   "metadata": {
    "collapsed": false
   },
   "outputs": [
    {
     "data": {
      "image/png": "[encoded data removed]",
      "text/plain": [
       "<matplotlib.figure.Figure at 0x7ff54b859358>"
      ]
     },
     "metadata": {},
     "output_type": "display_data"
    }
   ],
   "source": [
    "plot_estimated_derivative()\n",
    "#각각의 도함수 그래프,"
   ]
  },
  {
   "cell_type": "code",
   "execution_count": 4,
   "metadata": {
    "collapsed": false
   },
   "outputs": [
    {
     "data": {
      "image/png": "[encoded data removed]",
      "text/plain": [
       "<matplotlib.figure.Figure at 0x7ff549517978>"
      ]
     },
     "metadata": {},
     "output_type": "display_data"
    }
   ],
   "source": [
    "from numpy import arange\n",
    "# axis([x축최소 x축최대 y축최소 y축최대])\n",
    "x_vector = [i for i in arange(-4, 4 ,0.001)]\n",
    "\n",
    "def custom_function(x):\n",
    "   \n",
    "    return x * x *x*x +x*x*x -8*x*x -12*x\n",
    "# y_vector = [i for i in arange(-32,15,0.01)]\n",
    "y_vector = [custom_function(x)  for x in x_vector]\n",
    "\n",
    "plt.plot(x_vector, y_vector)\n",
    "plt.show()"
   ]
  },
  {
   "cell_type": "code",
   "execution_count": 5,
   "metadata": {
    "collapsed": false
   },
   "outputs": [
    {
     "data": {
      "image/png": "[encoded data removed]",
      "text/plain": [
       "<matplotlib.figure.Figure at 0x7ff54951f208>"
      ]
     },
     "metadata": {},
     "output_type": "display_data"
    }
   ],
   "source": [
    "graient_vector = [difference_quotient(custom_function, x,h=0.00001) for x in x_vector]\n",
    "# set(gca,'YTick',[0:5:120])\n",
    "plt.plot(x_vector, graient_vector)\n",
    "plt.show()\n"
   ]
  },
  {
   "cell_type": "code",
   "execution_count": 6,
   "metadata": {
    "collapsed": false
   },
   "outputs": [],
   "source": [
    "# from numpy import arange\n",
    "\n",
    "# graph_x = [i for i in arange(-100, 100, 0.1)]\n",
    "# graph_y = [i**2 for i in graph_x]\n",
    "# graph_ylim =[-32,15]\n",
    "# plt.plot(graph_x, graph_y)\n",
    "# plt.show()\n",
    "\n"
   ]
  },
  {
   "cell_type": "code",
   "execution_count": 7,
   "metadata": {
    "collapsed": false
   },
   "outputs": [
    {
     "name": "stdout",
     "output_type": "stream",
     "text": [
      "using the gradient\n",
      "Starting point : 6\n",
      "minimum v 3.000133212731368\n"
     ]
    }
   ],
   "source": [
    "import math \n",
    "print(\"using the gradient\")\n",
    "v = random.randint(-6,6)\n",
    "print(\"Starting point :\", v)\n",
    "tracking = []\n",
    "tolerance = 0.0000001\n",
    "while True:\n",
    "    gradient = custom_function(v)\n",
    "    tracking.append(v)\n",
    "    next_v = gradient * -0.00001 + v \n",
    "    if (v-next_v < tolerance):     # stop if we're converging\n",
    "        break\n",
    "    v = next_v                              # continue if we're not\n",
    "\n",
    "print(\"minimum v\", next_v)\n"
   ]
  },
  {
   "cell_type": "code",
   "execution_count": 8,
   "metadata": {
    "collapsed": false
   },
   "outputs": [],
   "source": [
    "# import math\n",
    "# print(\"using the gradient\")\n",
    "\n",
    "# def step(v,direction,step_size):\n",
    "#     return [v_i+step_size*direction_i for v_i,direction_i in zip(v,direction)]\n",
    "\n",
    "# def sum_of_squares_gradient(v):\n",
    "#     return [4*x*x*x +3*x*x -16*x -12 for x in v]\n",
    "\n",
    "# v=[random.randint(-4,4) for i in range(3)]\n",
    "# print(\"Starting point :\", v)\n",
    "# tracking = []\n",
    "\n",
    "# tolerance =0.0000001\n",
    "\n",
    "# while True:\n",
    "#     gradient = sum_of_squares_gradient(v)\n",
    "#     next_v = step(v,gradient, -0.01)\n",
    "#     tracking.append(v)\n",
    "#     if v < [tolerance]:\n",
    "#         break\n",
    "#     v = next_v\n",
    "\n",
    "# print(\"minimum v\", v)\n",
    "\n"
   ]
  },
  {
   "cell_type": "code",
   "execution_count": 9,
   "metadata": {
    "collapsed": false
   },
   "outputs": [
    {
     "data": {
      "image/png": "[encoded data removed]",
      "text/plain": [
       "<matplotlib.figure.Figure at 0x7ff5493e3828>"
      ]
     },
     "metadata": {},
     "output_type": "display_data"
    }
   ],
   "source": [
    "from numpy import arange\n",
    "\n",
    "plt.plot(x_vector,y_vector)\n",
    "plt.plot(tracking, [custom_function(i) for i in tracking], \"ro\")\n",
    "\n",
    "plt.show()"
   ]
  },
  {
   "cell_type": "code",
   "execution_count": null,
   "metadata": {
    "collapsed": true
   },
   "outputs": [],
   "source": []
  }
 ],
 "metadata": {
  "kernelspec": {
   "display_name": "Python 3",
   "language": "python",
   "name": "python3"
  },
  "language_info": {
   "codemirror_mode": {
    "name": "ipython",
    "version": 3
   },
   "file_extension": ".py",
   "mimetype": "text/x-python",
   "name": "python",
   "nbconvert_exporter": "python",
   "pygments_lexer": "ipython3",
   "version": "3.4.5"
  }
 },
 "nbformat": 4,
 "nbformat_minor": 0
}
