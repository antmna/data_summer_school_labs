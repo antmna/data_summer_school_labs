{
 "cells": [
  {
   "cell_type": "code",
   "execution_count": 87,
   "metadata": {
    "collapsed": false
   },
   "outputs": [],
   "source": [
    "import numpy as np\n",
    "import urllib.request\n",
    "import csv\n",
    "import numpy as np\n",
    "import matplotlib.pyplot as plt\n",
    "from sklearn import linear_model, datasets\n",
    "from sklearn.preprocessing import normalize\n",
    "import tensorflow as tf\n",
    "\n",
    "#https://archive.ics.uci.edu/ml/machine-learning-databases/pima-indians-diabetes/pima-indians-diabetes.names\n",
    "\n",
    "data_source = \"https://archive.ics.uci.edu/ml/machine-learning-databases/pima-indians-diabetes/pima-indians-diabetes.data\"\n",
    "name = ['prg', 'plas', 'pres','skin','test','mass','pedi', 'age','class']\n",
    "r = urllib.request.urlopen(data_source)\n",
    "b = r.read().decode(\"utf8\").strip().split('\\n')\n",
    "c = []\n",
    "for i in b:\n",
    "    i=i.split(\",\")\n",
    "    c.append(i)\n",
    "s_data = np.array(list(map(list, c)))\n",
    "s_data=np.float32(s_data)\n",
    "s_data[:, :len(name)-1] = normalize(data[:, :len(name)-1], axis=0)\n",
    "\n",
    "s_x_data = s_data[:,:-1]\n",
    "s_y_data = s_data[:,-1]\n",
    "\n",
    "s_x0=np.ones(len(s_x_data))\n",
    "\n",
    "s_x0=s_x0.reshape(len(s_x_data),1)\n",
    "s_x_data=np.float32(np.concatenate((s_x0, s_x_data), axis=1))\n",
    "s_x_data = s_x_data.T"
   ]
  },
  {
   "cell_type": "code",
   "execution_count": 84,
   "metadata": {
    "collapsed": false
   },
   "outputs": [
    {
     "name": "stdout",
     "output_type": "stream",
     "text": [
      "0 0.742785 [[ 0.2318974   0.69696325  0.08972941 -0.63265628 -0.07416283 -0.13799639\n",
      "   0.52049953  0.86563033  0.49677882]]\n",
      "100000 0.563179 [[ -2.73363972  13.31072426  16.46186256   0.27522936   2.07606673\n",
      "    5.86620474  10.04392147   9.87961292   8.88055992]]\n",
      "200000 0.538709 [[ -3.69170094  15.93099403  28.88347054  -0.4267979    1.62795973\n",
      "    5.37205887  17.46102905  12.8700285   12.59633541]]\n",
      "300000 0.523217 [[ -4.32141161  16.13032532  39.19190979  -1.61382496   1.19257569\n",
      "    4.36366463  23.76318932  13.97490025  14.597188  ]]\n",
      "400000 0.512022 [[ -4.80221128  15.83441925  47.97185135  -2.97517061   0.90737945\n",
      "    3.39922786  29.22732735  14.35572147  15.79620361]]\n",
      "500000 0.503637 [[ -5.19519758  15.54238987  55.54810715  -4.38831186   0.73576838\n",
      "    2.5564096   33.99594879  14.46564007  16.52911186]]\n",
      "600000 0.497235 [[ -5.52634525  15.31452179  62.11294556  -5.7896595    0.63346094\n",
      "    1.82329011  38.22238159  14.46564007  16.98391914]]\n",
      "700000 0.492282 [[ -5.81025505  15.18679619  67.85584259  -7.15330601   0.5730145\n",
      "    1.18343341  41.94246674  14.46564007  17.23492813]]\n",
      "800000 0.488374 [[ -6.05950356  15.13978863  72.94132233  -8.45757961   0.53808081\n",
      "    0.62386245  45.271698    14.46564007  17.37298584]]\n",
      "900000 0.485235 [[ -6.27929592  15.13978863  77.51895905  -9.69735622   0.51540893\n",
      "    0.13281989  48.27345276  14.46564007  17.37298584]]\n",
      "1000000 0.482814 [[ -6.46725941  15.18559742  81.37937927 -10.85328388   0.50772911\n",
      "   -0.29900885  50.94374084  14.46564007  17.37298584]]\n",
      "1100000 0.48078 [[ -6.63988018  15.26501942  85.05825806 -11.94935608   0.50574124\n",
      "   -0.68806154  53.32877731  14.46564007  17.29662323]]\n",
      "1200000 0.47918 [[ -6.78535366  15.36038685  88.11001587 -12.97747326   0.50363624\n",
      "   -1.02798712  55.59487915  14.46564007  17.10588837]]\n",
      "1300000 0.477812 [[ -6.92117357  15.45575428  91.16177368 -13.93114758   0.50433969\n",
      "   -1.34036481  57.50222778  14.46564007  16.9151535 ]]\n",
      "1400000 0.476742 [[ -7.0391221   15.55112171  93.59609222 -14.80331612   0.5053339\n",
      "   -1.6228236   59.40957642  14.48192024  16.73939705]]\n",
      "1500000 0.475863 [[ -7.14309311  15.64648914  95.88491058 -15.62347221   0.50480908\n",
      "   -1.86584783  60.96617508  14.51029205  16.59130859]]\n",
      "1600000 0.475073 [[ -7.24812078  15.74898815  98.17372894 -16.38641167   0.50677902\n",
      "   -2.09813404  62.49205399  14.53940582  16.43137169]]\n",
      "1700000 0.474422 [[  -7.34225225   15.85429573  100.12621307  -17.14935112    0.50928247\n",
      "    -2.3156426    63.99728012   14.57058716   16.31547356]]\n",
      "1800000 0.473913 [[  -7.42853928   15.94966316  101.65209198  -17.7469883     0.50234771\n",
      "    -2.49150586   65.52225494   14.59169865   16.23056602]]\n",
      "1900000 0.473496 [[  -7.49954653   16.07483673  103.17797089  -18.31919289    0.48565391\n",
      "    -2.65103531   66.62373352   14.62244511   16.0883255 ]]\n",
      "2000000 0.473148 [[  -7.5588069    16.15037346  104.70384979  -18.89139748    0.49508116\n",
      "    -2.79408646   67.38667297   14.64861774   15.97503853]]\n",
      "2100000 0.47283 [[  -7.61899042   16.2232132   106.2297287   -19.46360207    0.51849997\n",
      "    -2.93782854   68.14961243   14.67353821   15.8796711 ]]\n",
      "2200000 0.472544 [[  -7.68246603   16.2905407   107.7556076   -19.9387722     0.54830229\n",
      "    -3.08904743   68.91255188   14.69881439   15.78430367]]\n",
      "2300000 0.472369 [[  -7.72185516   16.35454369  108.52416229  -20.32024193    0.57256055\n",
      "    -3.21024728   69.67549133   14.7171402    15.68893623]]\n",
      "2400000 0.472206 [[  -7.76105404   16.41974258  109.28710175  -20.70171165    0.58146477\n",
      "    -3.30561471   70.43843079   14.73096466   15.5935688 ]]\n",
      "2500000 0.472053 [[  -7.80021477   16.48592186  110.0500412   -21.08318138    0.57896918\n",
      "    -3.38944316   71.20137024   14.74478149   15.49820137]]\n",
      "2600000 0.471912 [[  -7.83936262   16.55186081  110.81298065  -21.46465111    0.56874043\n",
      "    -3.46799088   71.96430969   14.75915241   15.40508652]]\n",
      "2700000 0.471781 [[  -7.88045645   16.59963799  111.5759201   -21.84612083    0.5568195\n",
      "    -3.54481363   72.72724915   14.77329826   15.38185501]]\n",
      "2800000 0.471661 [[  -7.92157602   16.64762688  112.33885956  -22.22759056    0.54484427\n",
      "    -3.6215868    73.4901886    14.78775311   15.35883427]]\n",
      "2900000 0.471556 [[  -7.96703959   16.69212341  113.10179901  -22.4503479     0.52606845\n",
      "    -3.70100236   74.25312805   14.80255604   15.31053066]]\n",
      "3000000 0.471461 [[  -8.01305771   16.73622704  113.86473846  -22.64108276    0.5001781\n",
      "    -3.77955174   75.0160675    14.81714916   15.25226021]]\n",
      "3100000 0.471375 [[  -8.05918407   16.78044891  114.62767792  -22.83181763    0.47037578\n",
      "    -3.85645318   75.77900696   14.8335228    15.19705391]]\n",
      "3200000 0.471313 [[  -8.0907011    16.81675911  115.39061737  -23.02255249    0.44690153\n",
      "    -3.93009329   76.15594482   14.85434055   15.12225723]]\n",
      "3300000 0.47127 [[  -8.11053658   16.84718704  116.15355682  -23.21328735    0.45852017\n",
      "    -4.00071621   76.19712067   14.87414837   15.03803444]]\n",
      "3400000 0.471237 [[  -8.12660694   16.87540817  116.79322052  -23.40402222    0.4880347\n",
      "    -4.05756617   76.22251892   14.88816166   14.97344875]]\n",
      "3500000 0.471226 [[  -8.12660694   16.88892365  116.89186096  -23.59475708    0.52379751\n",
      "    -4.09819269   76.28736877   14.89501667   14.97344875]]\n",
      "3600000 0.471219 [[  -8.12442684   16.90481377  116.94232941  -23.78549194    0.55431062\n",
      "    -4.10773897   76.32850647   14.89620876   14.97344875]]\n",
      "3700000 0.471213 [[  -8.12125587   16.91908836  116.97846985  -23.97622681    0.57815248\n",
      "    -4.11420059   76.36307526   14.89620876   14.97344875]]\n",
      "3800000 0.471207 [[  -8.1180706    16.9332428   117.01251984  -24.16696167    0.5967145\n",
      "    -4.11899805   76.40262604   14.89620876   14.97344875]]\n",
      "3900000 0.471202 [[  -8.11489296   16.9473896   117.04641724  -24.35769653    0.61459589\n",
      "    -4.12358522   76.44296265   14.89620876   14.97344875]]\n",
      "4000000 0.471198 [[  -8.11300373   16.95619392  117.06705475  -24.47558594    0.63105631\n",
      "    -4.12818718   76.46708679   14.89620876   14.97344875]]\n",
      "4100000 0.471198 [[  -8.11300373   16.95676994  117.06763458  -24.48225594    0.64033759\n",
      "    -4.13119507   76.46708679   14.89620876   14.97344875]]\n"
     ]
    },
    {
     "ename": "KeyboardInterrupt",
     "evalue": "",
     "output_type": "error",
     "traceback": [
      "\u001b[1;31m---------------------------------------------------------------------------\u001b[0m",
      "\u001b[1;31mKeyboardInterrupt\u001b[0m                         Traceback (most recent call last)",
      "\u001b[1;32m<ipython-input-84-1ee769ff1f65>\u001b[0m in \u001b[0;36m<module>\u001b[1;34m()\u001b[0m\n\u001b[0;32m     20\u001b[0m \u001b[1;33m\u001b[0m\u001b[0m\n\u001b[0;32m     21\u001b[0m \u001b[1;32mfor\u001b[0m \u001b[0mstep\u001b[0m \u001b[1;32min\u001b[0m \u001b[0mrange\u001b[0m\u001b[1;33m(\u001b[0m\u001b[1;36m10000000\u001b[0m\u001b[1;33m)\u001b[0m\u001b[1;33m:\u001b[0m\u001b[1;33m\u001b[0m\u001b[0m\n\u001b[1;32m---> 22\u001b[1;33m     \u001b[0msess\u001b[0m\u001b[1;33m.\u001b[0m\u001b[0mrun\u001b[0m\u001b[1;33m(\u001b[0m\u001b[0mtrain\u001b[0m\u001b[1;33m,\u001b[0m \u001b[0mfeed_dict\u001b[0m\u001b[1;33m=\u001b[0m\u001b[1;33m{\u001b[0m\u001b[0mX\u001b[0m\u001b[1;33m:\u001b[0m\u001b[0ms_x_data\u001b[0m\u001b[1;33m,\u001b[0m \u001b[0mY\u001b[0m\u001b[1;33m:\u001b[0m\u001b[0ms_y_data\u001b[0m\u001b[1;33m}\u001b[0m\u001b[1;33m)\u001b[0m\u001b[1;33m\u001b[0m\u001b[0m\n\u001b[0m\u001b[0;32m     23\u001b[0m     \u001b[1;32mif\u001b[0m \u001b[0mstep\u001b[0m \u001b[1;33m%\u001b[0m \u001b[1;36m100000\u001b[0m\u001b[1;33m==\u001b[0m \u001b[1;36m0\u001b[0m\u001b[1;33m:\u001b[0m\u001b[1;33m\u001b[0m\u001b[0m\n\u001b[0;32m     24\u001b[0m         \u001b[0mprint\u001b[0m \u001b[1;33m(\u001b[0m\u001b[0mstep\u001b[0m\u001b[1;33m,\u001b[0m \u001b[0msess\u001b[0m\u001b[1;33m.\u001b[0m\u001b[0mrun\u001b[0m\u001b[1;33m(\u001b[0m\u001b[0mcost\u001b[0m\u001b[1;33m,\u001b[0m \u001b[0mfeed_dict\u001b[0m\u001b[1;33m=\u001b[0m\u001b[1;33m{\u001b[0m\u001b[0mX\u001b[0m\u001b[1;33m:\u001b[0m\u001b[0ms_x_data\u001b[0m\u001b[1;33m,\u001b[0m \u001b[0mY\u001b[0m\u001b[1;33m:\u001b[0m\u001b[0ms_y_data\u001b[0m\u001b[1;33m}\u001b[0m\u001b[1;33m)\u001b[0m\u001b[1;33m,\u001b[0m\u001b[0msess\u001b[0m\u001b[1;33m.\u001b[0m\u001b[0mrun\u001b[0m\u001b[1;33m(\u001b[0m\u001b[0mW\u001b[0m\u001b[1;33m)\u001b[0m\u001b[1;33m)\u001b[0m\u001b[1;33m\u001b[0m\u001b[0m\n",
      "\u001b[1;32m/home/jangsion/miniconda3/envs/ml_python/lib/python3.4/site-packages/tensorflow/python/client/session.py\u001b[0m in \u001b[0;36mrun\u001b[1;34m(self, fetches, feed_dict, options, run_metadata)\u001b[0m\n\u001b[0;32m    370\u001b[0m     \u001b[1;32mtry\u001b[0m\u001b[1;33m:\u001b[0m\u001b[1;33m\u001b[0m\u001b[0m\n\u001b[0;32m    371\u001b[0m       result = self._run(None, fetches, feed_dict, options_ptr,\n\u001b[1;32m--> 372\u001b[1;33m                          run_metadata_ptr)\n\u001b[0m\u001b[0;32m    373\u001b[0m       \u001b[1;32mif\u001b[0m \u001b[0mrun_metadata\u001b[0m\u001b[1;33m:\u001b[0m\u001b[1;33m\u001b[0m\u001b[0m\n\u001b[0;32m    374\u001b[0m         \u001b[0mproto_data\u001b[0m \u001b[1;33m=\u001b[0m \u001b[0mtf_session\u001b[0m\u001b[1;33m.\u001b[0m\u001b[0mTF_GetBuffer\u001b[0m\u001b[1;33m(\u001b[0m\u001b[0mrun_metadata_ptr\u001b[0m\u001b[1;33m)\u001b[0m\u001b[1;33m\u001b[0m\u001b[0m\n",
      "\u001b[1;32m/home/jangsion/miniconda3/envs/ml_python/lib/python3.4/site-packages/tensorflow/python/client/session.py\u001b[0m in \u001b[0;36m_run\u001b[1;34m(self, handle, fetches, feed_dict, options, run_metadata)\u001b[0m\n\u001b[0;32m    634\u001b[0m     \u001b[1;32mtry\u001b[0m\u001b[1;33m:\u001b[0m\u001b[1;33m\u001b[0m\u001b[0m\n\u001b[0;32m    635\u001b[0m       results = self._do_run(handle, target_list, unique_fetches,\n\u001b[1;32m--> 636\u001b[1;33m                              feed_dict_string, options, run_metadata)\n\u001b[0m\u001b[0;32m    637\u001b[0m     \u001b[1;32mfinally\u001b[0m\u001b[1;33m:\u001b[0m\u001b[1;33m\u001b[0m\u001b[0m\n\u001b[0;32m    638\u001b[0m       \u001b[1;31m# The movers are no longer used. Delete them.\u001b[0m\u001b[1;33m\u001b[0m\u001b[1;33m\u001b[0m\u001b[0m\n",
      "\u001b[1;32m/home/jangsion/miniconda3/envs/ml_python/lib/python3.4/site-packages/tensorflow/python/client/session.py\u001b[0m in \u001b[0;36m_do_run\u001b[1;34m(self, handle, target_list, fetch_list, feed_dict, options, run_metadata)\u001b[0m\n\u001b[0;32m    706\u001b[0m     \u001b[1;32mif\u001b[0m \u001b[0mhandle\u001b[0m \u001b[1;32mis\u001b[0m \u001b[1;32mNone\u001b[0m\u001b[1;33m:\u001b[0m\u001b[1;33m\u001b[0m\u001b[0m\n\u001b[0;32m    707\u001b[0m       return self._do_call(_run_fn, self._session, feed_dict, fetch_list,\n\u001b[1;32m--> 708\u001b[1;33m                            target_list, options, run_metadata)\n\u001b[0m\u001b[0;32m    709\u001b[0m     \u001b[1;32melse\u001b[0m\u001b[1;33m:\u001b[0m\u001b[1;33m\u001b[0m\u001b[0m\n\u001b[0;32m    710\u001b[0m       return self._do_call(_prun_fn, self._session, handle, feed_dict,\n",
      "\u001b[1;32m/home/jangsion/miniconda3/envs/ml_python/lib/python3.4/site-packages/tensorflow/python/client/session.py\u001b[0m in \u001b[0;36m_do_call\u001b[1;34m(self, fn, *args)\u001b[0m\n\u001b[0;32m    713\u001b[0m   \u001b[1;32mdef\u001b[0m \u001b[0m_do_call\u001b[0m\u001b[1;33m(\u001b[0m\u001b[0mself\u001b[0m\u001b[1;33m,\u001b[0m \u001b[0mfn\u001b[0m\u001b[1;33m,\u001b[0m \u001b[1;33m*\u001b[0m\u001b[0margs\u001b[0m\u001b[1;33m)\u001b[0m\u001b[1;33m:\u001b[0m\u001b[1;33m\u001b[0m\u001b[0m\n\u001b[0;32m    714\u001b[0m     \u001b[1;32mtry\u001b[0m\u001b[1;33m:\u001b[0m\u001b[1;33m\u001b[0m\u001b[0m\n\u001b[1;32m--> 715\u001b[1;33m       \u001b[1;32mreturn\u001b[0m \u001b[0mfn\u001b[0m\u001b[1;33m(\u001b[0m\u001b[1;33m*\u001b[0m\u001b[0margs\u001b[0m\u001b[1;33m)\u001b[0m\u001b[1;33m\u001b[0m\u001b[0m\n\u001b[0m\u001b[0;32m    716\u001b[0m     \u001b[1;32mexcept\u001b[0m \u001b[0merrors\u001b[0m\u001b[1;33m.\u001b[0m\u001b[0mOpError\u001b[0m \u001b[1;32mas\u001b[0m \u001b[0me\u001b[0m\u001b[1;33m:\u001b[0m\u001b[1;33m\u001b[0m\u001b[0m\n\u001b[0;32m    717\u001b[0m       \u001b[0mmessage\u001b[0m \u001b[1;33m=\u001b[0m \u001b[0mcompat\u001b[0m\u001b[1;33m.\u001b[0m\u001b[0mas_text\u001b[0m\u001b[1;33m(\u001b[0m\u001b[0me\u001b[0m\u001b[1;33m.\u001b[0m\u001b[0mmessage\u001b[0m\u001b[1;33m)\u001b[0m\u001b[1;33m\u001b[0m\u001b[0m\n",
      "\u001b[1;32m/home/jangsion/miniconda3/envs/ml_python/lib/python3.4/site-packages/tensorflow/python/client/session.py\u001b[0m in \u001b[0;36m_run_fn\u001b[1;34m(session, feed_dict, fetch_list, target_list, options, run_metadata)\u001b[0m\n\u001b[0;32m    695\u001b[0m         return tf_session.TF_Run(session, options,\n\u001b[0;32m    696\u001b[0m                                  \u001b[0mfeed_dict\u001b[0m\u001b[1;33m,\u001b[0m \u001b[0mfetch_list\u001b[0m\u001b[1;33m,\u001b[0m \u001b[0mtarget_list\u001b[0m\u001b[1;33m,\u001b[0m\u001b[1;33m\u001b[0m\u001b[0m\n\u001b[1;32m--> 697\u001b[1;33m                                  status, run_metadata)\n\u001b[0m\u001b[0;32m    698\u001b[0m \u001b[1;33m\u001b[0m\u001b[0m\n\u001b[0;32m    699\u001b[0m     \u001b[1;32mdef\u001b[0m \u001b[0m_prun_fn\u001b[0m\u001b[1;33m(\u001b[0m\u001b[0msession\u001b[0m\u001b[1;33m,\u001b[0m \u001b[0mhandle\u001b[0m\u001b[1;33m,\u001b[0m \u001b[0mfeed_dict\u001b[0m\u001b[1;33m,\u001b[0m \u001b[0mfetch_list\u001b[0m\u001b[1;33m)\u001b[0m\u001b[1;33m:\u001b[0m\u001b[1;33m\u001b[0m\u001b[0m\n",
      "\u001b[1;31mKeyboardInterrupt\u001b[0m: "
     ]
    }
   ],
   "source": [
    "X = tf.placeholder(tf.float32)\n",
    "Y = tf.placeholder(tf.float32)\n",
    "\n",
    "W=tf.Variable(tf.random_uniform([1,len(s_x_data)], -1.0, 1.0))\n",
    "\n",
    "h = tf.matmul(W,X)\n",
    "hypothesis=tf.div(1.,1.+tf.exp(-h))\n",
    "cost = -tf.reduce_mean(Y * tf.log(hypothesis) + (1 - Y) * tf.log(1 - hypothesis))\n",
    "\n",
    "a = tf.Variable(0.1)\n",
    "\n",
    "optimizer = tf.train.GradientDescentOptimizer(a)\n",
    "\n",
    "train = optimizer.minimize(cost)\n",
    "\n",
    "init = tf.initialize_all_variables()\n",
    "\n",
    "sess = tf.Session()\n",
    "sess.run(init)\n",
    "\n",
    "for step in range(10000000):\n",
    "    sess.run(train, feed_dict={X:s_x_data, Y:s_y_data})\n",
    "    if step % 100000== 0:\n",
    "        print (step, sess.run(cost, feed_dict={X:s_x_data, Y:s_y_data}),sess.run(W))"
   ]
  },
  {
   "cell_type": "code",
   "execution_count": 100,
   "metadata": {
    "collapsed": false
   },
   "outputs": [],
   "source": [
    "W_val = sess.run(W).reshape(len(s_x_data),1)\n",
    "y_data = s_y_data.reshape(len(s_y_data),1)\n",
    "s_x_data=s_x_data.T"
   ]
  },
  {
   "cell_type": "code",
   "execution_count": 101,
   "metadata": {
    "collapsed": false
   },
   "outputs": [
    {
     "data": {
      "text/plain": [
       "array([ 0.78385417])"
      ]
     },
     "execution_count": 101,
     "metadata": {},
     "output_type": "execute_result"
    }
   ],
   "source": [
    "def sigmoid(z):\n",
    "    return 1 / (1 + np.exp(-z))\n",
    "\n",
    "x_w = np.dot(s_x_data, W_val)\n",
    "\n",
    "sum((sigmoid(x_w) > 0.5) == y_data)/ y_data.shape[0]"
   ]
  },
  {
   "cell_type": "code",
   "execution_count": null,
   "metadata": {
    "collapsed": true
   },
   "outputs": [],
   "source": []
  }
 ],
 "metadata": {
  "kernelspec": {
   "display_name": "Python 3",
   "language": "python",
   "name": "python3"
  },
  "language_info": {
   "codemirror_mode": {
    "name": "ipython",
    "version": 3
   },
   "file_extension": ".py",
   "mimetype": "text/x-python",
   "name": "python",
   "nbconvert_exporter": "python",
   "pygments_lexer": "ipython3",
   "version": "3.4.5"
  }
 },
 "nbformat": 4,
 "nbformat_minor": 0
}
