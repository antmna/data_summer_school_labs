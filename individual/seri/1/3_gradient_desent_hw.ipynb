{
 "cells": [
  {
   "cell_type": "code",
   "execution_count": 2,
   "metadata": {
    "collapsed": true
   },
   "outputs": [],
   "source": [
    "%matplotlib inline\n",
    "\n",
    "import numpy as np\n",
    "import matplotlib.pyplot as plt\n",
    "import random"
   ]
  },
  {
   "cell_type": "code",
   "execution_count": 3,
   "metadata": {
    "collapsed": false
   },
   "outputs": [
    {
     "data": {
      "image/png": "[encoded data removed]",
      "text/plain": [
       "<matplotlib.figure.Figure at 0x7f0453d58470>"
      ]
     },
     "metadata": {},
     "output_type": "display_data"
    }
   ],
   "source": [
    "# x^4 + x^3-8x^2-12x \n",
    "# 4x^3+3x^2-16x-12\n",
    "\n",
    "x_vector = [i for i in np.arange(-5,5,0.1)]\n",
    "\n",
    "def custom_function(x):\n",
    "    return x**4+x**3-8*x**2-12*x\n",
    "\n",
    "\n",
    "y_vector = [custom_function(x) for x in x_vector]\n",
    "\n",
    "plt.plot(x_vector, y_vector)\n",
    "plt.show()"
   ]
  },
  {
   "cell_type": "code",
   "execution_count": 4,
   "metadata": {
    "collapsed": true
   },
   "outputs": [],
   "source": [
    "def difference_quotient(f, x, h):\n",
    "    return (f(x + h) - f(x)) / h"
   ]
  },
  {
   "cell_type": "code",
   "execution_count": 5,
   "metadata": {
    "collapsed": false
   },
   "outputs": [
    {
     "data": {
      "image/png": "[encoded data removed]",
      "text/plain": [
       "<matplotlib.figure.Figure at 0x7f0451abfcf8>"
      ]
     },
     "metadata": {},
     "output_type": "display_data"
    }
   ],
   "source": [
    "graient_vector = [difference_quotient(custom_function, x,h=0.00001) for x in x_vector]\n",
    "\n",
    "plt.plot(x_vector, graient_vector)\n",
    "plt.show()\n"
   ]
  },
  {
   "cell_type": "code",
   "execution_count": 6,
   "metadata": {
    "collapsed": false,
    "scrolled": true
   },
   "outputs": [
    {
     "data": {
      "image/png": "[encoded data removed]",
      "text/plain": [
       "<matplotlib.figure.Figure at 0x7f0451a4cda0>"
      ]
     },
     "metadata": {},
     "output_type": "display_data"
    }
   ],
   "source": [
    "from numpy import arange\n",
    "\n",
    "graph_x = [i for i in arange(-5, 5, 0.001)]\n",
    "graph_y = [ i**4+i**3-8*i**2-12*i for i in graph_x]\n",
    "\n",
    "plt.plot(graph_x, graph_y)\n",
    "plt.show()\n"
   ]
  },
  {
   "cell_type": "code",
   "execution_count": null,
   "metadata": {
    "collapsed": false
   },
   "outputs": [
    {
     "name": "stdout",
     "output_type": "stream",
     "text": [
      "using the gradient\n",
      "1\n",
      "Stringtiong point : 1\n"
     ]
    }
   ],
   "source": [
    "import math \n",
    "\n",
    "def function(v):\n",
    "    return 4*v**3+3*v**2-16*v-12\n",
    "    \n",
    "print(\"using the gradient\")\n",
    "v = random.randint(0,5) #random.randint 지정범위내에 정수난수 만듦.\n",
    "print (v)\n",
    "print(\"Stringtiong point :\", v)\n",
    "tracking = []\n",
    "tolerance = 0.000001 #공차\n",
    "while True:\n",
    "    gradient = function(v) #미분식\n",
    "    tracking.append(v)\n",
    "    next_v = gradient * -0.001 + v \n",
    "    if next_v < tolerance:     # stop if we're converging\n",
    "        break\n",
    "    v = next_v                              # continue if we're not\n",
    "\n",
    "print(\"minimum v\", v)"
   ]
  },
  {
   "cell_type": "code",
   "execution_count": null,
   "metadata": {
    "collapsed": false
   },
   "outputs": [],
   "source": [
    "from numpy import arange\n",
    "\n",
    "plt.plot(graph_x, graph_y)\n",
    "plt.plot(tracking, [i**4+i**3-8*i**2-12*i  for i in tracking], \"ro\")\n",
    "\n",
    "plt.show()"
   ]
  },
  {
   "cell_type": "code",
   "execution_count": null,
   "metadata": {
    "collapsed": true
   },
   "outputs": [],
   "source": []
  }
 ],
 "metadata": {
  "kernelspec": {
   "display_name": "Python 3",
   "language": "python",
   "name": "python3"
  },
  "language_info": {
   "codemirror_mode": {
    "name": "ipython",
    "version": 3
   },
   "file_extension": ".py",
   "mimetype": "text/x-python",
   "name": "python",
   "nbconvert_exporter": "python",
   "pygments_lexer": "ipython3",
   "version": "3.4.5"
  }
 },
 "nbformat": 4,
 "nbformat_minor": 0
}
